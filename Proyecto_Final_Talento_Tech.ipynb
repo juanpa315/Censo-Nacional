{
  "nbformat": 4,
  "nbformat_minor": 0,
  "metadata": {
    "colab": {
      "provenance": []
    },
    "kernelspec": {
      "name": "python3",
      "display_name": "Python 3"
    },
    "language_info": {
      "name": "python"
    }
  },
  "cells": [
    {
      "cell_type": "markdown",
      "source": [
        "Traer las librerias requeridas"
      ],
      "metadata": {
        "id": "S_upAtg0ngfC"
      }
    },
    {
      "cell_type": "code",
      "source": [
        "import pandas as pd\n",
        "import numpy\n",
        "import matplotlib.pyplot as plt\n",
        "import seaborn as sns\n",
        "import os\n",
        "from google.colab import drive\n",
        "from google.colab import files"
      ],
      "metadata": {
        "id": "FjGT0ZhQoZ7_"
      },
      "execution_count": null,
      "outputs": []
    },
    {
      "cell_type": "markdown",
      "source": [
        "Traer las bases de datos de Google Drive\n"
      ],
      "metadata": {
        "id": "srg2eoTdnAHk"
      }
    },
    {
      "cell_type": "code",
      "execution_count": null,
      "metadata": {
        "colab": {
          "base_uri": "https://localhost:8080/"
        },
        "id": "b5o_P8Pkm9Lh",
        "outputId": "e85bfa9b-4f67-466a-c8bc-d973274acbdd"
      },
      "outputs": [
        {
          "output_type": "stream",
          "name": "stdout",
          "text": [
            "Mounted at /content/drive\n"
          ]
        }
      ],
      "source": [
        "from google.colab import drive\n",
        "drive.mount('/content/drive')"
      ]
    },
    {
      "cell_type": "code",
      "source": [
        "# Función para cargar un archivo CSV desde un enlace compartido de Google Drive\n",
        "def cargar_csv_de_google(file_id):\n",
        "    url = f'https://drive.google.com/uc?id={file_id}'\n",
        "    return pd.read_csv(url)\n",
        "\n",
        "# IDs de los archivos CSV compartidos\n",
        "file_ids = [\n",
        "    '1qNYXffWElwC2avT11_JQiUfGANVGW0zC',\n",
        "    '1yQtBcTbM1sZWpMr6uEQaNA_yD6ty_8Fq',\n",
        "    '1up65NRosXjqCSeXYv_AW9LuoE9vxIl1s'\n",
        "]\n",
        "\n",
        "# Cargar cada archivo en un dataframe y almacenarlos en una lista\n",
        "dataframes = [cargar_csv_de_google(file_id) for file_id in file_ids]\n",
        "\n",
        "# Combinar todos los dataframes en uno solo\n",
        "combined_dataframe = pd.concat(dataframes, ignore_index=True)"
      ],
      "metadata": {
        "id": "6qgtcSjeMxN0"
      },
      "execution_count": null,
      "outputs": []
    },
    {
      "cell_type": "code",
      "source": [
        "len(combined_dataframe)"
      ],
      "metadata": {
        "colab": {
          "base_uri": "https://localhost:8080/"
        },
        "id": "3ZxxrlV9WRNY",
        "outputId": "c36b5b03-bddd-485d-8888-05e579b949d4"
      },
      "execution_count": null,
      "outputs": [
        {
          "output_type": "execute_result",
          "data": {
            "text/plain": [
              "457412"
            ]
          },
          "metadata": {},
          "execution_count": 22
        }
      ]
    },
    {
      "cell_type": "markdown",
      "source": [
        "Funciones que se usaran durante el resto de la limpieza del archivo"
      ],
      "metadata": {
        "id": "3WYWxbRB1D7t"
      }
    },
    {
      "cell_type": "code",
      "source": [
        "# Función para eliminar columnas\n",
        "def eliminar_columnas(df, columnas_eliminar):\n",
        "  df_copy = df.copy()\n",
        "  df_copy.drop(columns=columnas_eliminar, inplace=True)\n",
        "  return df_copy\n",
        "\n",
        "# Función para modificar los nombres de las columnas.\n",
        "def actualizar_columnas(df, nuevos_nombres):\n",
        "  df.rename(columns=nuevos_nombres, inplace=True)\n",
        "  return df\n",
        "\n",
        "# Función para reemplazar los valores de una columna\n",
        "def reemplazar_valores(df, diccionario):\n",
        "  df_copy = df.copy()\n",
        "  for columna, nuevos_valores in diccionario.items():\n",
        "        if columna in df_copy.columns:\n",
        "            df_copy[columna] = df_copy[columna].replace(nuevos_valores)\n",
        "        else:\n",
        "            print(f\"Warning: Columna '{columna}' no encontrdada en DataFrame\")\n",
        "  return df_copy\n",
        "\n",
        "def reemplazar_nulos(df):\n",
        "    return df.fillna('No Informa')"
      ],
      "metadata": {
        "id": "YTpuFQIt1WU7"
      },
      "execution_count": null,
      "outputs": []
    },
    {
      "cell_type": "markdown",
      "source": [
        "Se realiza la limpieza del archivo"
      ],
      "metadata": {
        "id": "Q3XDD8lmyC-d"
      }
    },
    {
      "cell_type": "code",
      "source": [
        "# Función para eliminar columnas.\n",
        "columnas_Eliminar = ['TIPO_REG','COD_ENCUESTAS','U_VIVIENDA','P_NROHOG','P_NRO_PER','PA11_COD_ETNIA','PA12_CLAN','PA21_COD_VITSA','PA22_COD_KUMPA','PB1_QOTRAS_LENG','PA_VIVIA_5ANOS','PA1_CALIDAD_SERV','CONDICION_FISICA','PA_HNV','PA1_THNV','PA2_HNVH','PA3_HNVM','PA_HNVS','PA2_HSVH','PA3_HSVM','PA_HFC', 'PA2_HFCH','PA3_HFCM','PA_UHNV','PA1_MES_UHNV',\n",
        "'PA2_ANO_UHNV', 'PA_HABLA_LENG','PA1_ENTIENDE','PB_OTRAS_LENG','P_QUEHIZO_PPAL','PA_LO_ATENDIERON','PA1_THFC']\n",
        "df_modificado = eliminar_columnas(combined_dataframe, columnas_Eliminar)\n",
        "df_modificado.info()"
      ],
      "metadata": {
        "id": "HP2KK_NZHiok"
      },
      "execution_count": null,
      "outputs": []
    },
    {
      "cell_type": "code",
      "source": [
        "# Renombrar columnas\n",
        "nuevos_nombres = {\n",
        "'U_DPTO': 'DEPARTAMENTO',\n",
        "'U_MPIO': 'MUNICIPIO',\n",
        "'UA_CLASE':'CLASE',\n",
        "'P_SEXO': 'SEXO',\n",
        "'P_EDADR': 'RANGO_EDAD',\n",
        "'P_PARENTESCOR' :'JEFE_HOGAR',\n",
        "'PA1_GRP_ETNIC': 'ETNIA',\n",
        "'PA_LUG_NAC':'NACIO_AQUI',\n",
        "'PA_VIVIA_1ANO':'RESIDENCIA_UN_ANO',\n",
        "'P_ENFERMO':'ENFERMEDAD',\n",
        "'P_ALFABETA':'ALFABETA',\n",
        "'PA_ASISTENCIA':'ASISTENCIA',\n",
        "'P_NIVEL_ANOSR':'NIVEL_EDUCATIVO',\n",
        "'P_TRABAJO':'OCUPACION',\n",
        "'P_EST_CIVIL':'ESTADO_CIVIL',\n",
        "'PA1_THSV':'NUMERO_HIJOS',\n",
        "}\n",
        "df_renombrado=actualizar_columnas(df_modificado, nuevos_nombres)\n",
        "df_renombrado.info()"
      ],
      "metadata": {
        "id": "dC-7u0wS3Fxx",
        "colab": {
          "base_uri": "https://localhost:8080/"
        },
        "collapsed": true,
        "outputId": "8d8a73b0-f9ae-4665-8de4-f77843872ba9"
      },
      "execution_count": null,
      "outputs": [
        {
          "output_type": "stream",
          "name": "stdout",
          "text": [
            "<class 'pandas.core.frame.DataFrame'>\n",
            "RangeIndex: 1250249 entries, 0 to 1250248\n",
            "Data columns (total 16 columns):\n",
            " #   Column             Non-Null Count    Dtype  \n",
            "---  ------             --------------    -----  \n",
            " 0   DEPARTAMENTO       1250249 non-null  int64  \n",
            " 1   MUNICIPIO          1250249 non-null  int64  \n",
            " 2   CLASE              1250249 non-null  int64  \n",
            " 3   SEXO               1250249 non-null  int64  \n",
            " 4   RANGO_EDAD         1250249 non-null  int64  \n",
            " 5   JEFE_HOGAR         1237447 non-null  float64\n",
            " 6   ETNIA              1250249 non-null  int64  \n",
            " 7   NACIO_AQUI         1250249 non-null  int64  \n",
            " 8   RESIDENCIA_UN_ANO  1237447 non-null  float64\n",
            " 9   ENFERMEDAD         1237447 non-null  float64\n",
            " 10  ALFABETA           1150367 non-null  float64\n",
            " 11  ASISTENCIA         1137680 non-null  float64\n",
            " 12  NIVEL_EDUCATIVO    1150367 non-null  float64\n",
            " 13  OCUPACION          1030443 non-null  float64\n",
            " 14  ESTADO_CIVIL       1042682 non-null  float64\n",
            " 15  NUMERO_HIJOS       319057 non-null   float64\n",
            "dtypes: float64(9), int64(7)\n",
            "memory usage: 152.6 MB\n"
          ]
        }
      ]
    },
    {
      "cell_type": "code",
      "source": [
        "#Reemplazar los valores de las columnas\n",
        "\n",
        "nuevos_valores = {\n",
        "    'SEXO': {\n",
        "        1: 'HOMBRE',\n",
        "        2: 'MUJER'\n",
        "    },\n",
        "    'DEPARTAMENTO': {\n",
        "        63: 'QUINDIO',\n",
        "        86: 'PUTUMAYO',\n",
        "        27: 'CHOCO'\n",
        "    },\n",
        "    'JEFE_HOGAR': {\n",
        "        1: 'JEFE HOGAR',\n",
        "        2: 'PAREJA',\n",
        "        3: 'HIJO_HIJASTRO',\n",
        "        4: 'PARIENTE',\n",
        "        5: 'NO_PARIENTE',\n",
        "        6: 'NA'\n",
        "    },\n",
        "    'CLASE': {\n",
        "        1: 'CABECERA',\n",
        "        4: 'RESTO'\n",
        "    },\n",
        "    'NIVEL_EDUCATIVO': {\n",
        "        1: 'PREESCOLAR',\n",
        "        2: 'PRIMARIA',\n",
        "        3: 'SECUNDARIA',\n",
        "        4: 'MEDIA_ACADÉMICA',\n",
        "        5: 'MEDIA_TÉCNICA',\n",
        "        6: 'NORMALISTA',\n",
        "        7: 'TECNICA',\n",
        "        8: 'UNIVERSITARIO',\n",
        "        9: 'POSGRADO',\n",
        "        10: 'NINGUNO',\n",
        "        99: 'NO INFORMA'\n",
        "      },\n",
        "    'ETNIA': {\n",
        "        1: 'INDIGENA',\n",
        "        2: 'RROM',\n",
        "        3: 'RAIZAL',\n",
        "        4: 'PALENQUERO',\n",
        "        5: 'AFRODESCENDIENTE',\n",
        "        6: 'NINGUNO',\n",
        "        9: 'NO INFORMA'\n",
        "      },\n",
        "    'ENFERMEDAD': {\n",
        "        1: 'SI',\n",
        "        2: 'NO',\n",
        "        9: 'NO INFORMA'\n",
        "    },\n",
        "    'ALFABETA': {\n",
        "        1: 'SI',\n",
        "        2: 'NO',\n",
        "        9: 'NO INFORMA'\n",
        "    },\n",
        "    'ASISTENCIA': {\n",
        "        1: 'SI',\n",
        "        2: 'NO',\n",
        "        9: 'NO INFORMA'\n",
        "    },\n",
        "    'RANGO_EDAD': {\n",
        "        1: 'de 00 A 04 Años',\n",
        "        2: 'de 05 A 09 Años',\n",
        "        3: 'de 10 A 14 Años',\n",
        "        4: 'de 15 A 19 Años',\n",
        "        5: 'de 20 A 24 Años',\n",
        "        6: 'de 25 A 29 Años',\n",
        "        7: 'de 30 A 34 Años',\n",
        "        8: 'de 35 A 39 Años',\n",
        "        9: 'de 40 A 44 Años',\n",
        "        10: 'de 45 A 49 Años',\n",
        "        11: 'de 50 A 54 Años',\n",
        "        12: 'de 55 A 59 Años',\n",
        "        13: 'de 60 A 64 Años',\n",
        "        14: 'de 65 A 69 Años',\n",
        "        15: 'de 70 A 74 Años',\n",
        "        16: 'de 75 A 79 Años',\n",
        "        17: 'de 80 A 84 Años',\n",
        "        18: 'de 85 A 89 Años',\n",
        "        19: 'de 90 A 94 Años',\n",
        "        20: 'de 95 A 99 Años',\n",
        "        21: 'de 100 y más Años'\n",
        "    },\n",
        "    'OCUPACION': {\n",
        "        1: 'Trabajo una hora minimo en algo que genera ingreso',\n",
        "        2: 'Trabajó o ayudó sin pago en algun negocio',\n",
        "        3: 'Tenía trabajo/negocio con ingresos',\n",
        "        4: 'Busco trabajo',\n",
        "        5: 'Vivió de jubilación, pensión o renta',\n",
        "        6: 'Estudió',\n",
        "        7: 'Realizó oficios del hogar',\n",
        "        8: 'Está incapacitado(a) permanentemente para trabajar',\n",
        "        9: 'Estuvo en otra situación',\n",
        "        0: 'No informa'\n",
        "    },\n",
        "    'ESTADO_CIVIL': {\n",
        "        1: 'UNION_LIBRE',\n",
        "        2: 'CASADO',\n",
        "        3: 'DIVOCIADO',\n",
        "        4: 'SEPARADO UNIN_LIBRE',\n",
        "        5: 'SEPARADO MATRIMONIO',\n",
        "        6: 'VIUDO',\n",
        "        7: 'SOLTERO',\n",
        "        9: 'NO INFORMA'\n",
        "    }\n",
        "}\n",
        "df_actualizado= reemplazar_valores(df_renombrado, nuevos_valores)\n",
        "len(df_actualizado)"
      ],
      "metadata": {
        "id": "MIokSdkEFJi8",
        "colab": {
          "base_uri": "https://localhost:8080/"
        },
        "outputId": "31ffedc7-ed47-4140-aed0-e6f5af44ccce"
      },
      "execution_count": null,
      "outputs": [
        {
          "output_type": "execute_result",
          "data": {
            "text/plain": [
              "1250249"
            ]
          },
          "metadata": {},
          "execution_count": 7
        }
      ]
    },
    {
      "cell_type": "code",
      "source": [
        "df_actualizado.info()"
      ],
      "metadata": {
        "id": "ZOoGNSez61R5"
      },
      "execution_count": null,
      "outputs": []
    },
    {
      "cell_type": "markdown",
      "source": [
        "Reemplazar valores nulos"
      ],
      "metadata": {
        "id": "bCCfrzbM9NcO"
      }
    },
    {
      "cell_type": "code",
      "source": [
        "df_final= reemplazar_nulos(df_actualizado)\n",
        "for column in df_final.columns:\n",
        "  print(column)\n",
        "  print(df_final[column].isna().sum())"
      ],
      "metadata": {
        "id": "LqLlsRYI6sAS"
      },
      "execution_count": null,
      "outputs": []
    },
    {
      "cell_type": "markdown",
      "source": [],
      "metadata": {
        "id": "gCCOXh2s9UUx"
      }
    },
    {
      "cell_type": "code",
      "source": [
        "print(df_actualizado['OCUPACION'].unique())\n",
        "print(df_actualizado['NIVEL_EDUCATIVO'].unique())\n",
        "print(df_actualizado['ETNIA'].unique())"
      ],
      "metadata": {
        "id": "XhKbhkAT7lGy"
      },
      "execution_count": null,
      "outputs": []
    },
    {
      "cell_type": "markdown",
      "source": [
        "Cargue de información en base de datos."
      ],
      "metadata": {
        "id": "hbmMNpsp9atn"
      }
    },
    {
      "cell_type": "code",
      "source": [
        "# Instalar el controlador ODBC 17 para SQL Server\n",
        "!apt-get install unixodbc-dev\n",
        "!pip install pymssql"
      ],
      "metadata": {
        "id": "xuIh5LkQ7BVt"
      },
      "execution_count": null,
      "outputs": []
    },
    {
      "cell_type": "markdown",
      "source": [],
      "metadata": {
        "id": "rmLEDy5QY2-J"
      }
    },
    {
      "cell_type": "code",
      "source": [
        "# Importar el módulo pymssql\n",
        "import pymssql\n",
        "\n",
        "# Función para cargar datos en las tablas del Data Warehouse\n",
        "def load_data_to_dwh(df, table_name):\n",
        "    SERVER = 'mssql-185979-0.cloudclusters.net'\n",
        "    PORT = 10064\n",
        "    USER = 'Bootcamp280'\n",
        "    PASSWORD = 'A1234567b'\n",
        "    DATABASE = 'PROYECTO_DEPTOS'\n",
        "\n",
        "    try:\n",
        "        conn_str = {\n",
        "            'host': SERVER,\n",
        "            'port': PORT,\n",
        "            'user': USER,\n",
        "            'password': PASSWORD,\n",
        "            'database': DATABASE,\n",
        "            'charset': 'utf8'\n",
        "        }\n",
        "        conn = pymssql.connect(**conn_str)\n",
        "\n",
        "        if conn:\n",
        "            cursor = conn.cursor()\n",
        "            batch_size = 1000  # Commit every 1000 records\n",
        "            counter = 0\n",
        "\n",
        "            for index, row in df.iterrows():\n",
        "                query = f\"INSERT INTO {table_name} ({', '.join(row.index)}) VALUES ({', '.join(['%s'] * len(row))})\"\n",
        "                cursor.execute(query, tuple(row))\n",
        "                counter += 1\n",
        "\n",
        "                if counter % batch_size == 0:\n",
        "                  conn.commit()\n",
        "                  print(f\"Committed {counter} records\")\n",
        "\n",
        "            conn.commit()\n",
        "            print(f\"Datos cargados en la tabla {table_name} exitosamente.\")\n",
        "\n",
        "    except pymssql.Error as e:\n",
        "        print(\"Error en la conexión o consulta:\", e)\n",
        "\n",
        "    finally:\n",
        "        if 'conn' in locals() and conn:\n",
        "            conn.close()\n",
        "            print(\"Conexión cerrada.\")"
      ],
      "metadata": {
        "id": "7k-YmdjA9xLn"
      },
      "execution_count": null,
      "outputs": []
    },
    {
      "cell_type": "code",
      "source": [
        "load_data_to_dwh(df_final, 'Tabla_final_deptos')"
      ],
      "metadata": {
        "id": "GFW3tT8d2TaZ"
      },
      "execution_count": null,
      "outputs": []
    },
    {
      "cell_type": "code",
      "source": [
        "df_final.info()"
      ],
      "metadata": {
        "id": "cm6WrfjkIDHj"
      },
      "execution_count": null,
      "outputs": []
    },
    {
      "cell_type": "code",
      "source": [
        "df_final.head()"
      ],
      "metadata": {
        "colab": {
          "base_uri": "https://localhost:8080/",
          "height": 293
        },
        "id": "JlDncvKgIObl",
        "outputId": "5e86e554-178b-4dec-cdc9-7a68ec408345"
      },
      "execution_count": null,
      "outputs": [
        {
          "output_type": "execute_result",
          "data": {
            "text/plain": [
              "  DEPARTAMENTO  MUNICIPIO     CLASE    SEXO       RANGO_EDAD     JEFE_HOGAR  \\\n",
              "0      QUINDIO          1  CABECERA  HOMBRE  de 60 A 64 Años     JEFE HOGAR   \n",
              "1      QUINDIO          1  CABECERA   MUJER  de 60 A 64 Años         PAREJA   \n",
              "2      QUINDIO          1  CABECERA  HOMBRE  de 25 A 29 Años  HIJO_HIJASTRO   \n",
              "3      QUINDIO          1  CABECERA  HOMBRE  de 10 A 14 Años       PARIENTE   \n",
              "4      QUINDIO          1  CABECERA  HOMBRE  de 30 A 34 Años  HIJO_HIJASTRO   \n",
              "\n",
              "     ETNIA  NACIO_AQUI RESIDENCIA_UN_ANO ENFERMEDAD ALFABETA ASISTENCIA  \\\n",
              "0  NINGUNO           2               2.0         SI       SI         NO   \n",
              "1  NINGUNO           2               2.0         NO       SI         NO   \n",
              "2  NINGUNO           2               2.0         NO       SI         SI   \n",
              "3  NINGUNO           2               2.0         NO       SI         SI   \n",
              "4  NINGUNO           2               2.0         NO       SI         NO   \n",
              "\n",
              "   NIVEL_EDUCATIVO                                          OCUPACION  \\\n",
              "0         PRIMARIA  Trabajo una hora minimo en algo que genera ing...   \n",
              "1       SECUNDARIA                          Realizó oficios del hogar   \n",
              "2  MEDIA_ACADÉMICA  Trabajo una hora minimo en algo que genera ing...   \n",
              "3       SECUNDARIA                                            Estudió   \n",
              "4  MEDIA_ACADÉMICA  Trabajo una hora minimo en algo que genera ing...   \n",
              "\n",
              "  ESTADO_CIVIL NUMERO_HIJOS  \n",
              "0       CASADO   No Informa  \n",
              "1       CASADO          3.0  \n",
              "2      SOLTERO   No Informa  \n",
              "3      SOLTERO   No Informa  \n",
              "4  UNION_LIBRE   No Informa  "
            ],
            "text/html": [
              "\n",
              "  <div id=\"df-936e6253-9296-4332-8050-f050f2d752aa\" class=\"colab-df-container\">\n",
              "    <div>\n",
              "<style scoped>\n",
              "    .dataframe tbody tr th:only-of-type {\n",
              "        vertical-align: middle;\n",
              "    }\n",
              "\n",
              "    .dataframe tbody tr th {\n",
              "        vertical-align: top;\n",
              "    }\n",
              "\n",
              "    .dataframe thead th {\n",
              "        text-align: right;\n",
              "    }\n",
              "</style>\n",
              "<table border=\"1\" class=\"dataframe\">\n",
              "  <thead>\n",
              "    <tr style=\"text-align: right;\">\n",
              "      <th></th>\n",
              "      <th>DEPARTAMENTO</th>\n",
              "      <th>MUNICIPIO</th>\n",
              "      <th>CLASE</th>\n",
              "      <th>SEXO</th>\n",
              "      <th>RANGO_EDAD</th>\n",
              "      <th>JEFE_HOGAR</th>\n",
              "      <th>ETNIA</th>\n",
              "      <th>NACIO_AQUI</th>\n",
              "      <th>RESIDENCIA_UN_ANO</th>\n",
              "      <th>ENFERMEDAD</th>\n",
              "      <th>ALFABETA</th>\n",
              "      <th>ASISTENCIA</th>\n",
              "      <th>NIVEL_EDUCATIVO</th>\n",
              "      <th>OCUPACION</th>\n",
              "      <th>ESTADO_CIVIL</th>\n",
              "      <th>NUMERO_HIJOS</th>\n",
              "    </tr>\n",
              "  </thead>\n",
              "  <tbody>\n",
              "    <tr>\n",
              "      <th>0</th>\n",
              "      <td>QUINDIO</td>\n",
              "      <td>1</td>\n",
              "      <td>CABECERA</td>\n",
              "      <td>HOMBRE</td>\n",
              "      <td>de 60 A 64 Años</td>\n",
              "      <td>JEFE HOGAR</td>\n",
              "      <td>NINGUNO</td>\n",
              "      <td>2</td>\n",
              "      <td>2.0</td>\n",
              "      <td>SI</td>\n",
              "      <td>SI</td>\n",
              "      <td>NO</td>\n",
              "      <td>PRIMARIA</td>\n",
              "      <td>Trabajo una hora minimo en algo que genera ing...</td>\n",
              "      <td>CASADO</td>\n",
              "      <td>No Informa</td>\n",
              "    </tr>\n",
              "    <tr>\n",
              "      <th>1</th>\n",
              "      <td>QUINDIO</td>\n",
              "      <td>1</td>\n",
              "      <td>CABECERA</td>\n",
              "      <td>MUJER</td>\n",
              "      <td>de 60 A 64 Años</td>\n",
              "      <td>PAREJA</td>\n",
              "      <td>NINGUNO</td>\n",
              "      <td>2</td>\n",
              "      <td>2.0</td>\n",
              "      <td>NO</td>\n",
              "      <td>SI</td>\n",
              "      <td>NO</td>\n",
              "      <td>SECUNDARIA</td>\n",
              "      <td>Realizó oficios del hogar</td>\n",
              "      <td>CASADO</td>\n",
              "      <td>3.0</td>\n",
              "    </tr>\n",
              "    <tr>\n",
              "      <th>2</th>\n",
              "      <td>QUINDIO</td>\n",
              "      <td>1</td>\n",
              "      <td>CABECERA</td>\n",
              "      <td>HOMBRE</td>\n",
              "      <td>de 25 A 29 Años</td>\n",
              "      <td>HIJO_HIJASTRO</td>\n",
              "      <td>NINGUNO</td>\n",
              "      <td>2</td>\n",
              "      <td>2.0</td>\n",
              "      <td>NO</td>\n",
              "      <td>SI</td>\n",
              "      <td>SI</td>\n",
              "      <td>MEDIA_ACADÉMICA</td>\n",
              "      <td>Trabajo una hora minimo en algo que genera ing...</td>\n",
              "      <td>SOLTERO</td>\n",
              "      <td>No Informa</td>\n",
              "    </tr>\n",
              "    <tr>\n",
              "      <th>3</th>\n",
              "      <td>QUINDIO</td>\n",
              "      <td>1</td>\n",
              "      <td>CABECERA</td>\n",
              "      <td>HOMBRE</td>\n",
              "      <td>de 10 A 14 Años</td>\n",
              "      <td>PARIENTE</td>\n",
              "      <td>NINGUNO</td>\n",
              "      <td>2</td>\n",
              "      <td>2.0</td>\n",
              "      <td>NO</td>\n",
              "      <td>SI</td>\n",
              "      <td>SI</td>\n",
              "      <td>SECUNDARIA</td>\n",
              "      <td>Estudió</td>\n",
              "      <td>SOLTERO</td>\n",
              "      <td>No Informa</td>\n",
              "    </tr>\n",
              "    <tr>\n",
              "      <th>4</th>\n",
              "      <td>QUINDIO</td>\n",
              "      <td>1</td>\n",
              "      <td>CABECERA</td>\n",
              "      <td>HOMBRE</td>\n",
              "      <td>de 30 A 34 Años</td>\n",
              "      <td>HIJO_HIJASTRO</td>\n",
              "      <td>NINGUNO</td>\n",
              "      <td>2</td>\n",
              "      <td>2.0</td>\n",
              "      <td>NO</td>\n",
              "      <td>SI</td>\n",
              "      <td>NO</td>\n",
              "      <td>MEDIA_ACADÉMICA</td>\n",
              "      <td>Trabajo una hora minimo en algo que genera ing...</td>\n",
              "      <td>UNION_LIBRE</td>\n",
              "      <td>No Informa</td>\n",
              "    </tr>\n",
              "  </tbody>\n",
              "</table>\n",
              "</div>\n",
              "    <div class=\"colab-df-buttons\">\n",
              "\n",
              "  <div class=\"colab-df-container\">\n",
              "    <button class=\"colab-df-convert\" onclick=\"convertToInteractive('df-936e6253-9296-4332-8050-f050f2d752aa')\"\n",
              "            title=\"Convert this dataframe to an interactive table.\"\n",
              "            style=\"display:none;\">\n",
              "\n",
              "  <svg xmlns=\"http://www.w3.org/2000/svg\" height=\"24px\" viewBox=\"0 -960 960 960\">\n",
              "    <path d=\"M120-120v-720h720v720H120Zm60-500h600v-160H180v160Zm220 220h160v-160H400v160Zm0 220h160v-160H400v160ZM180-400h160v-160H180v160Zm440 0h160v-160H620v160ZM180-180h160v-160H180v160Zm440 0h160v-160H620v160Z\"/>\n",
              "  </svg>\n",
              "    </button>\n",
              "\n",
              "  <style>\n",
              "    .colab-df-container {\n",
              "      display:flex;\n",
              "      gap: 12px;\n",
              "    }\n",
              "\n",
              "    .colab-df-convert {\n",
              "      background-color: #E8F0FE;\n",
              "      border: none;\n",
              "      border-radius: 50%;\n",
              "      cursor: pointer;\n",
              "      display: none;\n",
              "      fill: #1967D2;\n",
              "      height: 32px;\n",
              "      padding: 0 0 0 0;\n",
              "      width: 32px;\n",
              "    }\n",
              "\n",
              "    .colab-df-convert:hover {\n",
              "      background-color: #E2EBFA;\n",
              "      box-shadow: 0px 1px 2px rgba(60, 64, 67, 0.3), 0px 1px 3px 1px rgba(60, 64, 67, 0.15);\n",
              "      fill: #174EA6;\n",
              "    }\n",
              "\n",
              "    .colab-df-buttons div {\n",
              "      margin-bottom: 4px;\n",
              "    }\n",
              "\n",
              "    [theme=dark] .colab-df-convert {\n",
              "      background-color: #3B4455;\n",
              "      fill: #D2E3FC;\n",
              "    }\n",
              "\n",
              "    [theme=dark] .colab-df-convert:hover {\n",
              "      background-color: #434B5C;\n",
              "      box-shadow: 0px 1px 3px 1px rgba(0, 0, 0, 0.15);\n",
              "      filter: drop-shadow(0px 1px 2px rgba(0, 0, 0, 0.3));\n",
              "      fill: #FFFFFF;\n",
              "    }\n",
              "  </style>\n",
              "\n",
              "    <script>\n",
              "      const buttonEl =\n",
              "        document.querySelector('#df-936e6253-9296-4332-8050-f050f2d752aa button.colab-df-convert');\n",
              "      buttonEl.style.display =\n",
              "        google.colab.kernel.accessAllowed ? 'block' : 'none';\n",
              "\n",
              "      async function convertToInteractive(key) {\n",
              "        const element = document.querySelector('#df-936e6253-9296-4332-8050-f050f2d752aa');\n",
              "        const dataTable =\n",
              "          await google.colab.kernel.invokeFunction('convertToInteractive',\n",
              "                                                    [key], {});\n",
              "        if (!dataTable) return;\n",
              "\n",
              "        const docLinkHtml = 'Like what you see? Visit the ' +\n",
              "          '<a target=\"_blank\" href=https://colab.research.google.com/notebooks/data_table.ipynb>data table notebook</a>'\n",
              "          + ' to learn more about interactive tables.';\n",
              "        element.innerHTML = '';\n",
              "        dataTable['output_type'] = 'display_data';\n",
              "        await google.colab.output.renderOutput(dataTable, element);\n",
              "        const docLink = document.createElement('div');\n",
              "        docLink.innerHTML = docLinkHtml;\n",
              "        element.appendChild(docLink);\n",
              "      }\n",
              "    </script>\n",
              "  </div>\n",
              "\n",
              "\n",
              "<div id=\"df-e4906f34-02bb-4e56-afd4-5f1c3689e7cc\">\n",
              "  <button class=\"colab-df-quickchart\" onclick=\"quickchart('df-e4906f34-02bb-4e56-afd4-5f1c3689e7cc')\"\n",
              "            title=\"Suggest charts\"\n",
              "            style=\"display:none;\">\n",
              "\n",
              "<svg xmlns=\"http://www.w3.org/2000/svg\" height=\"24px\"viewBox=\"0 0 24 24\"\n",
              "     width=\"24px\">\n",
              "    <g>\n",
              "        <path d=\"M19 3H5c-1.1 0-2 .9-2 2v14c0 1.1.9 2 2 2h14c1.1 0 2-.9 2-2V5c0-1.1-.9-2-2-2zM9 17H7v-7h2v7zm4 0h-2V7h2v10zm4 0h-2v-4h2v4z\"/>\n",
              "    </g>\n",
              "</svg>\n",
              "  </button>\n",
              "\n",
              "<style>\n",
              "  .colab-df-quickchart {\n",
              "      --bg-color: #E8F0FE;\n",
              "      --fill-color: #1967D2;\n",
              "      --hover-bg-color: #E2EBFA;\n",
              "      --hover-fill-color: #174EA6;\n",
              "      --disabled-fill-color: #AAA;\n",
              "      --disabled-bg-color: #DDD;\n",
              "  }\n",
              "\n",
              "  [theme=dark] .colab-df-quickchart {\n",
              "      --bg-color: #3B4455;\n",
              "      --fill-color: #D2E3FC;\n",
              "      --hover-bg-color: #434B5C;\n",
              "      --hover-fill-color: #FFFFFF;\n",
              "      --disabled-bg-color: #3B4455;\n",
              "      --disabled-fill-color: #666;\n",
              "  }\n",
              "\n",
              "  .colab-df-quickchart {\n",
              "    background-color: var(--bg-color);\n",
              "    border: none;\n",
              "    border-radius: 50%;\n",
              "    cursor: pointer;\n",
              "    display: none;\n",
              "    fill: var(--fill-color);\n",
              "    height: 32px;\n",
              "    padding: 0;\n",
              "    width: 32px;\n",
              "  }\n",
              "\n",
              "  .colab-df-quickchart:hover {\n",
              "    background-color: var(--hover-bg-color);\n",
              "    box-shadow: 0 1px 2px rgba(60, 64, 67, 0.3), 0 1px 3px 1px rgba(60, 64, 67, 0.15);\n",
              "    fill: var(--button-hover-fill-color);\n",
              "  }\n",
              "\n",
              "  .colab-df-quickchart-complete:disabled,\n",
              "  .colab-df-quickchart-complete:disabled:hover {\n",
              "    background-color: var(--disabled-bg-color);\n",
              "    fill: var(--disabled-fill-color);\n",
              "    box-shadow: none;\n",
              "  }\n",
              "\n",
              "  .colab-df-spinner {\n",
              "    border: 2px solid var(--fill-color);\n",
              "    border-color: transparent;\n",
              "    border-bottom-color: var(--fill-color);\n",
              "    animation:\n",
              "      spin 1s steps(1) infinite;\n",
              "  }\n",
              "\n",
              "  @keyframes spin {\n",
              "    0% {\n",
              "      border-color: transparent;\n",
              "      border-bottom-color: var(--fill-color);\n",
              "      border-left-color: var(--fill-color);\n",
              "    }\n",
              "    20% {\n",
              "      border-color: transparent;\n",
              "      border-left-color: var(--fill-color);\n",
              "      border-top-color: var(--fill-color);\n",
              "    }\n",
              "    30% {\n",
              "      border-color: transparent;\n",
              "      border-left-color: var(--fill-color);\n",
              "      border-top-color: var(--fill-color);\n",
              "      border-right-color: var(--fill-color);\n",
              "    }\n",
              "    40% {\n",
              "      border-color: transparent;\n",
              "      border-right-color: var(--fill-color);\n",
              "      border-top-color: var(--fill-color);\n",
              "    }\n",
              "    60% {\n",
              "      border-color: transparent;\n",
              "      border-right-color: var(--fill-color);\n",
              "    }\n",
              "    80% {\n",
              "      border-color: transparent;\n",
              "      border-right-color: var(--fill-color);\n",
              "      border-bottom-color: var(--fill-color);\n",
              "    }\n",
              "    90% {\n",
              "      border-color: transparent;\n",
              "      border-bottom-color: var(--fill-color);\n",
              "    }\n",
              "  }\n",
              "</style>\n",
              "\n",
              "  <script>\n",
              "    async function quickchart(key) {\n",
              "      const quickchartButtonEl =\n",
              "        document.querySelector('#' + key + ' button');\n",
              "      quickchartButtonEl.disabled = true;  // To prevent multiple clicks.\n",
              "      quickchartButtonEl.classList.add('colab-df-spinner');\n",
              "      try {\n",
              "        const charts = await google.colab.kernel.invokeFunction(\n",
              "            'suggestCharts', [key], {});\n",
              "      } catch (error) {\n",
              "        console.error('Error during call to suggestCharts:', error);\n",
              "      }\n",
              "      quickchartButtonEl.classList.remove('colab-df-spinner');\n",
              "      quickchartButtonEl.classList.add('colab-df-quickchart-complete');\n",
              "    }\n",
              "    (() => {\n",
              "      let quickchartButtonEl =\n",
              "        document.querySelector('#df-e4906f34-02bb-4e56-afd4-5f1c3689e7cc button');\n",
              "      quickchartButtonEl.style.display =\n",
              "        google.colab.kernel.accessAllowed ? 'block' : 'none';\n",
              "    })();\n",
              "  </script>\n",
              "</div>\n",
              "\n",
              "    </div>\n",
              "  </div>\n"
            ],
            "application/vnd.google.colaboratory.intrinsic+json": {
              "type": "dataframe",
              "variable_name": "df_final"
            }
          },
          "metadata": {},
          "execution_count": 14
        }
      ]
    },
    {
      "cell_type": "code",
      "source": [
        "# Filtrar a los primeros 50,000 registros\n",
        "df_filtrado = df.iloc[:50000]"
      ],
      "metadata": {
        "id": "X269thb2_6gv"
      },
      "execution_count": null,
      "outputs": []
    }
  ]
}